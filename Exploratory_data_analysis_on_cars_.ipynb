{
  "nbformat": 4,
  "nbformat_minor": 0,
  "metadata": {
    "colab": {
      "name": "Exploratory data analysis on  cars .ipynb",
      "provenance": []
    },
    "kernelspec": {
      "name": "python3",
      "display_name": "Python 3"
    }
  },
  "cells": [
    {
      "cell_type": "markdown",
      "metadata": {
        "id": "rZms1CcYrAOI",
        "colab_type": "text"
      },
      "source": [
        "Importing Libraries"
      ]
    },
    {
      "cell_type": "code",
      "metadata": {
        "id": "8PBJDAg9qMYT",
        "colab_type": "code",
        "colab": {
          "base_uri": "https://localhost:8080/",
          "height": 71
        },
        "outputId": "0a5301fb-ccae-4a4a-e93f-a3fa73e13957"
      },
      "source": [
        "import pandas as pd\n",
        "import numpy as np\n",
        "import seaborn as sns                       #visualisation\n",
        "import matplotlib.pyplot as plt "
      ],
      "execution_count": 1,
      "outputs": [
        {
          "output_type": "stream",
          "text": [
            "/usr/local/lib/python3.6/dist-packages/statsmodels/tools/_testing.py:19: FutureWarning: pandas.util.testing is deprecated. Use the functions in the public API at pandas.testing instead.\n",
            "  import pandas.util.testing as tm\n"
          ],
          "name": "stderr"
        }
      ]
    },
    {
      "cell_type": "markdown",
      "metadata": {
        "id": "zTe6MJrjrJnm",
        "colab_type": "text"
      },
      "source": [
        "Reading Data"
      ]
    },
    {
      "cell_type": "code",
      "metadata": {
        "id": "EuAZaKUPqpr2",
        "colab_type": "code",
        "colab": {}
      },
      "source": [
        "df = pd.read_csv('data.csv')"
      ],
      "execution_count": 3,
      "outputs": []
    },
    {
      "cell_type": "markdown",
      "metadata": {
        "id": "EhrHoBcmr5JC",
        "colab_type": "text"
      },
      "source": [
        "To display the first 5 rows"
      ]
    },
    {
      "cell_type": "code",
      "metadata": {
        "id": "047KEksLr7Co",
        "colab_type": "code",
        "colab": {
          "base_uri": "https://localhost:8080/",
          "height": 428
        },
        "outputId": "06133f10-3401-4b85-f5ae-3238fe063339"
      },
      "source": [
        "df.head(5)"
      ],
      "execution_count": 4,
      "outputs": [
        {
          "output_type": "execute_result",
          "data": {
            "text/html": [
              "<div>\n",
              "<style scoped>\n",
              "    .dataframe tbody tr th:only-of-type {\n",
              "        vertical-align: middle;\n",
              "    }\n",
              "\n",
              "    .dataframe tbody tr th {\n",
              "        vertical-align: top;\n",
              "    }\n",
              "\n",
              "    .dataframe thead th {\n",
              "        text-align: right;\n",
              "    }\n",
              "</style>\n",
              "<table border=\"1\" class=\"dataframe\">\n",
              "  <thead>\n",
              "    <tr style=\"text-align: right;\">\n",
              "      <th></th>\n",
              "      <th>Make</th>\n",
              "      <th>Model</th>\n",
              "      <th>Year</th>\n",
              "      <th>Engine Fuel Type</th>\n",
              "      <th>Engine HP</th>\n",
              "      <th>Engine Cylinders</th>\n",
              "      <th>Transmission Type</th>\n",
              "      <th>Driven_Wheels</th>\n",
              "      <th>Number of Doors</th>\n",
              "      <th>Market Category</th>\n",
              "      <th>Vehicle Size</th>\n",
              "      <th>Vehicle Style</th>\n",
              "      <th>highway MPG</th>\n",
              "      <th>city mpg</th>\n",
              "      <th>Popularity</th>\n",
              "      <th>MSRP</th>\n",
              "    </tr>\n",
              "  </thead>\n",
              "  <tbody>\n",
              "    <tr>\n",
              "      <th>0</th>\n",
              "      <td>BMW</td>\n",
              "      <td>1 Series M</td>\n",
              "      <td>2011</td>\n",
              "      <td>premium unleaded (required)</td>\n",
              "      <td>335.0</td>\n",
              "      <td>6.0</td>\n",
              "      <td>MANUAL</td>\n",
              "      <td>rear wheel drive</td>\n",
              "      <td>2.0</td>\n",
              "      <td>Factory Tuner,Luxury,High-Performance</td>\n",
              "      <td>Compact</td>\n",
              "      <td>Coupe</td>\n",
              "      <td>26</td>\n",
              "      <td>19</td>\n",
              "      <td>3916</td>\n",
              "      <td>46135</td>\n",
              "    </tr>\n",
              "    <tr>\n",
              "      <th>1</th>\n",
              "      <td>BMW</td>\n",
              "      <td>1 Series</td>\n",
              "      <td>2011</td>\n",
              "      <td>premium unleaded (required)</td>\n",
              "      <td>300.0</td>\n",
              "      <td>6.0</td>\n",
              "      <td>MANUAL</td>\n",
              "      <td>rear wheel drive</td>\n",
              "      <td>2.0</td>\n",
              "      <td>Luxury,Performance</td>\n",
              "      <td>Compact</td>\n",
              "      <td>Convertible</td>\n",
              "      <td>28</td>\n",
              "      <td>19</td>\n",
              "      <td>3916</td>\n",
              "      <td>40650</td>\n",
              "    </tr>\n",
              "    <tr>\n",
              "      <th>2</th>\n",
              "      <td>BMW</td>\n",
              "      <td>1 Series</td>\n",
              "      <td>2011</td>\n",
              "      <td>premium unleaded (required)</td>\n",
              "      <td>300.0</td>\n",
              "      <td>6.0</td>\n",
              "      <td>MANUAL</td>\n",
              "      <td>rear wheel drive</td>\n",
              "      <td>2.0</td>\n",
              "      <td>Luxury,High-Performance</td>\n",
              "      <td>Compact</td>\n",
              "      <td>Coupe</td>\n",
              "      <td>28</td>\n",
              "      <td>20</td>\n",
              "      <td>3916</td>\n",
              "      <td>36350</td>\n",
              "    </tr>\n",
              "    <tr>\n",
              "      <th>3</th>\n",
              "      <td>BMW</td>\n",
              "      <td>1 Series</td>\n",
              "      <td>2011</td>\n",
              "      <td>premium unleaded (required)</td>\n",
              "      <td>230.0</td>\n",
              "      <td>6.0</td>\n",
              "      <td>MANUAL</td>\n",
              "      <td>rear wheel drive</td>\n",
              "      <td>2.0</td>\n",
              "      <td>Luxury,Performance</td>\n",
              "      <td>Compact</td>\n",
              "      <td>Coupe</td>\n",
              "      <td>28</td>\n",
              "      <td>18</td>\n",
              "      <td>3916</td>\n",
              "      <td>29450</td>\n",
              "    </tr>\n",
              "    <tr>\n",
              "      <th>4</th>\n",
              "      <td>BMW</td>\n",
              "      <td>1 Series</td>\n",
              "      <td>2011</td>\n",
              "      <td>premium unleaded (required)</td>\n",
              "      <td>230.0</td>\n",
              "      <td>6.0</td>\n",
              "      <td>MANUAL</td>\n",
              "      <td>rear wheel drive</td>\n",
              "      <td>2.0</td>\n",
              "      <td>Luxury</td>\n",
              "      <td>Compact</td>\n",
              "      <td>Convertible</td>\n",
              "      <td>28</td>\n",
              "      <td>18</td>\n",
              "      <td>3916</td>\n",
              "      <td>34500</td>\n",
              "    </tr>\n",
              "  </tbody>\n",
              "</table>\n",
              "</div>"
            ],
            "text/plain": [
              "  Make       Model  Year  ... city mpg  Popularity   MSRP\n",
              "0  BMW  1 Series M  2011  ...       19        3916  46135\n",
              "1  BMW    1 Series  2011  ...       19        3916  40650\n",
              "2  BMW    1 Series  2011  ...       20        3916  36350\n",
              "3  BMW    1 Series  2011  ...       18        3916  29450\n",
              "4  BMW    1 Series  2011  ...       18        3916  34500\n",
              "\n",
              "[5 rows x 16 columns]"
            ]
          },
          "metadata": {
            "tags": []
          },
          "execution_count": 4
        }
      ]
    },
    {
      "cell_type": "markdown",
      "metadata": {
        "id": "BjfV03VxsRfK",
        "colab_type": "text"
      },
      "source": [
        "To display the bottom 5 rows"
      ]
    },
    {
      "cell_type": "code",
      "metadata": {
        "id": "wU2qNPijsUad",
        "colab_type": "code",
        "colab": {
          "base_uri": "https://localhost:8080/",
          "height": 411
        },
        "outputId": "1321f422-64fb-4e38-f4d1-20ae559b16ed"
      },
      "source": [
        "df.tail(5)"
      ],
      "execution_count": 5,
      "outputs": [
        {
          "output_type": "execute_result",
          "data": {
            "text/html": [
              "<div>\n",
              "<style scoped>\n",
              "    .dataframe tbody tr th:only-of-type {\n",
              "        vertical-align: middle;\n",
              "    }\n",
              "\n",
              "    .dataframe tbody tr th {\n",
              "        vertical-align: top;\n",
              "    }\n",
              "\n",
              "    .dataframe thead th {\n",
              "        text-align: right;\n",
              "    }\n",
              "</style>\n",
              "<table border=\"1\" class=\"dataframe\">\n",
              "  <thead>\n",
              "    <tr style=\"text-align: right;\">\n",
              "      <th></th>\n",
              "      <th>Make</th>\n",
              "      <th>Model</th>\n",
              "      <th>Year</th>\n",
              "      <th>Engine Fuel Type</th>\n",
              "      <th>Engine HP</th>\n",
              "      <th>Engine Cylinders</th>\n",
              "      <th>Transmission Type</th>\n",
              "      <th>Driven_Wheels</th>\n",
              "      <th>Number of Doors</th>\n",
              "      <th>Market Category</th>\n",
              "      <th>Vehicle Size</th>\n",
              "      <th>Vehicle Style</th>\n",
              "      <th>highway MPG</th>\n",
              "      <th>city mpg</th>\n",
              "      <th>Popularity</th>\n",
              "      <th>MSRP</th>\n",
              "    </tr>\n",
              "  </thead>\n",
              "  <tbody>\n",
              "    <tr>\n",
              "      <th>11909</th>\n",
              "      <td>Acura</td>\n",
              "      <td>ZDX</td>\n",
              "      <td>2012</td>\n",
              "      <td>premium unleaded (required)</td>\n",
              "      <td>300.0</td>\n",
              "      <td>6.0</td>\n",
              "      <td>AUTOMATIC</td>\n",
              "      <td>all wheel drive</td>\n",
              "      <td>4.0</td>\n",
              "      <td>Crossover,Hatchback,Luxury</td>\n",
              "      <td>Midsize</td>\n",
              "      <td>4dr Hatchback</td>\n",
              "      <td>23</td>\n",
              "      <td>16</td>\n",
              "      <td>204</td>\n",
              "      <td>46120</td>\n",
              "    </tr>\n",
              "    <tr>\n",
              "      <th>11910</th>\n",
              "      <td>Acura</td>\n",
              "      <td>ZDX</td>\n",
              "      <td>2012</td>\n",
              "      <td>premium unleaded (required)</td>\n",
              "      <td>300.0</td>\n",
              "      <td>6.0</td>\n",
              "      <td>AUTOMATIC</td>\n",
              "      <td>all wheel drive</td>\n",
              "      <td>4.0</td>\n",
              "      <td>Crossover,Hatchback,Luxury</td>\n",
              "      <td>Midsize</td>\n",
              "      <td>4dr Hatchback</td>\n",
              "      <td>23</td>\n",
              "      <td>16</td>\n",
              "      <td>204</td>\n",
              "      <td>56670</td>\n",
              "    </tr>\n",
              "    <tr>\n",
              "      <th>11911</th>\n",
              "      <td>Acura</td>\n",
              "      <td>ZDX</td>\n",
              "      <td>2012</td>\n",
              "      <td>premium unleaded (required)</td>\n",
              "      <td>300.0</td>\n",
              "      <td>6.0</td>\n",
              "      <td>AUTOMATIC</td>\n",
              "      <td>all wheel drive</td>\n",
              "      <td>4.0</td>\n",
              "      <td>Crossover,Hatchback,Luxury</td>\n",
              "      <td>Midsize</td>\n",
              "      <td>4dr Hatchback</td>\n",
              "      <td>23</td>\n",
              "      <td>16</td>\n",
              "      <td>204</td>\n",
              "      <td>50620</td>\n",
              "    </tr>\n",
              "    <tr>\n",
              "      <th>11912</th>\n",
              "      <td>Acura</td>\n",
              "      <td>ZDX</td>\n",
              "      <td>2013</td>\n",
              "      <td>premium unleaded (recommended)</td>\n",
              "      <td>300.0</td>\n",
              "      <td>6.0</td>\n",
              "      <td>AUTOMATIC</td>\n",
              "      <td>all wheel drive</td>\n",
              "      <td>4.0</td>\n",
              "      <td>Crossover,Hatchback,Luxury</td>\n",
              "      <td>Midsize</td>\n",
              "      <td>4dr Hatchback</td>\n",
              "      <td>23</td>\n",
              "      <td>16</td>\n",
              "      <td>204</td>\n",
              "      <td>50920</td>\n",
              "    </tr>\n",
              "    <tr>\n",
              "      <th>11913</th>\n",
              "      <td>Lincoln</td>\n",
              "      <td>Zephyr</td>\n",
              "      <td>2006</td>\n",
              "      <td>regular unleaded</td>\n",
              "      <td>221.0</td>\n",
              "      <td>6.0</td>\n",
              "      <td>AUTOMATIC</td>\n",
              "      <td>front wheel drive</td>\n",
              "      <td>4.0</td>\n",
              "      <td>Luxury</td>\n",
              "      <td>Midsize</td>\n",
              "      <td>Sedan</td>\n",
              "      <td>26</td>\n",
              "      <td>17</td>\n",
              "      <td>61</td>\n",
              "      <td>28995</td>\n",
              "    </tr>\n",
              "  </tbody>\n",
              "</table>\n",
              "</div>"
            ],
            "text/plain": [
              "          Make   Model  Year  ... city mpg  Popularity   MSRP\n",
              "11909    Acura     ZDX  2012  ...       16         204  46120\n",
              "11910    Acura     ZDX  2012  ...       16         204  56670\n",
              "11911    Acura     ZDX  2012  ...       16         204  50620\n",
              "11912    Acura     ZDX  2013  ...       16         204  50920\n",
              "11913  Lincoln  Zephyr  2006  ...       17          61  28995\n",
              "\n",
              "[5 rows x 16 columns]"
            ]
          },
          "metadata": {
            "tags": []
          },
          "execution_count": 5
        }
      ]
    },
    {
      "cell_type": "markdown",
      "metadata": {
        "id": "SuhMm6GXsu-P",
        "colab_type": "text"
      },
      "source": [
        "Details of Dataframe"
      ]
    },
    {
      "cell_type": "code",
      "metadata": {
        "id": "lcpxzH-ztV2N",
        "colab_type": "code",
        "colab": {
          "base_uri": "https://localhost:8080/",
          "height": 408
        },
        "outputId": "6e1c78de-1fdc-4c13-82ad-4bf09d5e104b"
      },
      "source": [
        "df.info()"
      ],
      "execution_count": 6,
      "outputs": [
        {
          "output_type": "stream",
          "text": [
            "<class 'pandas.core.frame.DataFrame'>\n",
            "RangeIndex: 11914 entries, 0 to 11913\n",
            "Data columns (total 16 columns):\n",
            " #   Column             Non-Null Count  Dtype  \n",
            "---  ------             --------------  -----  \n",
            " 0   Make               11914 non-null  object \n",
            " 1   Model              11914 non-null  object \n",
            " 2   Year               11914 non-null  int64  \n",
            " 3   Engine Fuel Type   11911 non-null  object \n",
            " 4   Engine HP          11845 non-null  float64\n",
            " 5   Engine Cylinders   11884 non-null  float64\n",
            " 6   Transmission Type  11914 non-null  object \n",
            " 7   Driven_Wheels      11914 non-null  object \n",
            " 8   Number of Doors    11908 non-null  float64\n",
            " 9   Market Category    8172 non-null   object \n",
            " 10  Vehicle Size       11914 non-null  object \n",
            " 11  Vehicle Style      11914 non-null  object \n",
            " 12  highway MPG        11914 non-null  int64  \n",
            " 13  city mpg           11914 non-null  int64  \n",
            " 14  Popularity         11914 non-null  int64  \n",
            " 15  MSRP               11914 non-null  int64  \n",
            "dtypes: float64(3), int64(5), object(8)\n",
            "memory usage: 1.5+ MB\n"
          ],
          "name": "stdout"
        }
      ]
    },
    {
      "cell_type": "markdown",
      "metadata": {
        "id": "kAImhqektfMr",
        "colab_type": "text"
      },
      "source": [
        "Statistical summary"
      ]
    },
    {
      "cell_type": "code",
      "metadata": {
        "id": "6J0xZILAtiHO",
        "colab_type": "code",
        "colab": {
          "base_uri": "https://localhost:8080/",
          "height": 297
        },
        "outputId": "033ad91c-d48a-4302-c5a7-85254cac635a"
      },
      "source": [
        "df.describe()"
      ],
      "execution_count": 7,
      "outputs": [
        {
          "output_type": "execute_result",
          "data": {
            "text/html": [
              "<div>\n",
              "<style scoped>\n",
              "    .dataframe tbody tr th:only-of-type {\n",
              "        vertical-align: middle;\n",
              "    }\n",
              "\n",
              "    .dataframe tbody tr th {\n",
              "        vertical-align: top;\n",
              "    }\n",
              "\n",
              "    .dataframe thead th {\n",
              "        text-align: right;\n",
              "    }\n",
              "</style>\n",
              "<table border=\"1\" class=\"dataframe\">\n",
              "  <thead>\n",
              "    <tr style=\"text-align: right;\">\n",
              "      <th></th>\n",
              "      <th>Year</th>\n",
              "      <th>Engine HP</th>\n",
              "      <th>Engine Cylinders</th>\n",
              "      <th>Number of Doors</th>\n",
              "      <th>highway MPG</th>\n",
              "      <th>city mpg</th>\n",
              "      <th>Popularity</th>\n",
              "      <th>MSRP</th>\n",
              "    </tr>\n",
              "  </thead>\n",
              "  <tbody>\n",
              "    <tr>\n",
              "      <th>count</th>\n",
              "      <td>11914.000000</td>\n",
              "      <td>11845.00000</td>\n",
              "      <td>11884.000000</td>\n",
              "      <td>11908.000000</td>\n",
              "      <td>11914.000000</td>\n",
              "      <td>11914.000000</td>\n",
              "      <td>11914.000000</td>\n",
              "      <td>1.191400e+04</td>\n",
              "    </tr>\n",
              "    <tr>\n",
              "      <th>mean</th>\n",
              "      <td>2010.384338</td>\n",
              "      <td>249.38607</td>\n",
              "      <td>5.628829</td>\n",
              "      <td>3.436093</td>\n",
              "      <td>26.637485</td>\n",
              "      <td>19.733255</td>\n",
              "      <td>1554.911197</td>\n",
              "      <td>4.059474e+04</td>\n",
              "    </tr>\n",
              "    <tr>\n",
              "      <th>std</th>\n",
              "      <td>7.579740</td>\n",
              "      <td>109.19187</td>\n",
              "      <td>1.780559</td>\n",
              "      <td>0.881315</td>\n",
              "      <td>8.863001</td>\n",
              "      <td>8.987798</td>\n",
              "      <td>1441.855347</td>\n",
              "      <td>6.010910e+04</td>\n",
              "    </tr>\n",
              "    <tr>\n",
              "      <th>min</th>\n",
              "      <td>1990.000000</td>\n",
              "      <td>55.00000</td>\n",
              "      <td>0.000000</td>\n",
              "      <td>2.000000</td>\n",
              "      <td>12.000000</td>\n",
              "      <td>7.000000</td>\n",
              "      <td>2.000000</td>\n",
              "      <td>2.000000e+03</td>\n",
              "    </tr>\n",
              "    <tr>\n",
              "      <th>25%</th>\n",
              "      <td>2007.000000</td>\n",
              "      <td>170.00000</td>\n",
              "      <td>4.000000</td>\n",
              "      <td>2.000000</td>\n",
              "      <td>22.000000</td>\n",
              "      <td>16.000000</td>\n",
              "      <td>549.000000</td>\n",
              "      <td>2.100000e+04</td>\n",
              "    </tr>\n",
              "    <tr>\n",
              "      <th>50%</th>\n",
              "      <td>2015.000000</td>\n",
              "      <td>227.00000</td>\n",
              "      <td>6.000000</td>\n",
              "      <td>4.000000</td>\n",
              "      <td>26.000000</td>\n",
              "      <td>18.000000</td>\n",
              "      <td>1385.000000</td>\n",
              "      <td>2.999500e+04</td>\n",
              "    </tr>\n",
              "    <tr>\n",
              "      <th>75%</th>\n",
              "      <td>2016.000000</td>\n",
              "      <td>300.00000</td>\n",
              "      <td>6.000000</td>\n",
              "      <td>4.000000</td>\n",
              "      <td>30.000000</td>\n",
              "      <td>22.000000</td>\n",
              "      <td>2009.000000</td>\n",
              "      <td>4.223125e+04</td>\n",
              "    </tr>\n",
              "    <tr>\n",
              "      <th>max</th>\n",
              "      <td>2017.000000</td>\n",
              "      <td>1001.00000</td>\n",
              "      <td>16.000000</td>\n",
              "      <td>4.000000</td>\n",
              "      <td>354.000000</td>\n",
              "      <td>137.000000</td>\n",
              "      <td>5657.000000</td>\n",
              "      <td>2.065902e+06</td>\n",
              "    </tr>\n",
              "  </tbody>\n",
              "</table>\n",
              "</div>"
            ],
            "text/plain": [
              "               Year    Engine HP  ...    Popularity          MSRP\n",
              "count  11914.000000  11845.00000  ...  11914.000000  1.191400e+04\n",
              "mean    2010.384338    249.38607  ...   1554.911197  4.059474e+04\n",
              "std        7.579740    109.19187  ...   1441.855347  6.010910e+04\n",
              "min     1990.000000     55.00000  ...      2.000000  2.000000e+03\n",
              "25%     2007.000000    170.00000  ...    549.000000  2.100000e+04\n",
              "50%     2015.000000    227.00000  ...   1385.000000  2.999500e+04\n",
              "75%     2016.000000    300.00000  ...   2009.000000  4.223125e+04\n",
              "max     2017.000000   1001.00000  ...   5657.000000  2.065902e+06\n",
              "\n",
              "[8 rows x 8 columns]"
            ]
          },
          "metadata": {
            "tags": []
          },
          "execution_count": 7
        }
      ]
    },
    {
      "cell_type": "markdown",
      "metadata": {
        "id": "JzXfjNOrtsx1",
        "colab_type": "text"
      },
      "source": [
        "Dropping the columns and displaying first 5 rows"
      ]
    },
    {
      "cell_type": "code",
      "metadata": {
        "id": "G2VDDawctnqq",
        "colab_type": "code",
        "colab": {
          "base_uri": "https://localhost:8080/",
          "height": 428
        },
        "outputId": "f34e13ec-a9c5-44bc-e769-fe2117303536"
      },
      "source": [
        "df = df.rename(columns={\"Engine HP\": \"HP\", \"Engine Cylinders\": \"Cylinders\", \"Transmission Type\": \"Transmission\", \"Driven_Wheels\": \"Drive Mode\",\"highway MPG\": \"MPG-H\", \"city mpg\": \"MPG-C\", \"MSRP\": \"Price\" })\n",
        "df.head(5)"
      ],
      "execution_count": 8,
      "outputs": [
        {
          "output_type": "execute_result",
          "data": {
            "text/html": [
              "<div>\n",
              "<style scoped>\n",
              "    .dataframe tbody tr th:only-of-type {\n",
              "        vertical-align: middle;\n",
              "    }\n",
              "\n",
              "    .dataframe tbody tr th {\n",
              "        vertical-align: top;\n",
              "    }\n",
              "\n",
              "    .dataframe thead th {\n",
              "        text-align: right;\n",
              "    }\n",
              "</style>\n",
              "<table border=\"1\" class=\"dataframe\">\n",
              "  <thead>\n",
              "    <tr style=\"text-align: right;\">\n",
              "      <th></th>\n",
              "      <th>Make</th>\n",
              "      <th>Model</th>\n",
              "      <th>Year</th>\n",
              "      <th>Engine Fuel Type</th>\n",
              "      <th>HP</th>\n",
              "      <th>Cylinders</th>\n",
              "      <th>Transmission</th>\n",
              "      <th>Drive Mode</th>\n",
              "      <th>Number of Doors</th>\n",
              "      <th>Market Category</th>\n",
              "      <th>Vehicle Size</th>\n",
              "      <th>Vehicle Style</th>\n",
              "      <th>MPG-H</th>\n",
              "      <th>MPG-C</th>\n",
              "      <th>Popularity</th>\n",
              "      <th>Price</th>\n",
              "    </tr>\n",
              "  </thead>\n",
              "  <tbody>\n",
              "    <tr>\n",
              "      <th>0</th>\n",
              "      <td>BMW</td>\n",
              "      <td>1 Series M</td>\n",
              "      <td>2011</td>\n",
              "      <td>premium unleaded (required)</td>\n",
              "      <td>335.0</td>\n",
              "      <td>6.0</td>\n",
              "      <td>MANUAL</td>\n",
              "      <td>rear wheel drive</td>\n",
              "      <td>2.0</td>\n",
              "      <td>Factory Tuner,Luxury,High-Performance</td>\n",
              "      <td>Compact</td>\n",
              "      <td>Coupe</td>\n",
              "      <td>26</td>\n",
              "      <td>19</td>\n",
              "      <td>3916</td>\n",
              "      <td>46135</td>\n",
              "    </tr>\n",
              "    <tr>\n",
              "      <th>1</th>\n",
              "      <td>BMW</td>\n",
              "      <td>1 Series</td>\n",
              "      <td>2011</td>\n",
              "      <td>premium unleaded (required)</td>\n",
              "      <td>300.0</td>\n",
              "      <td>6.0</td>\n",
              "      <td>MANUAL</td>\n",
              "      <td>rear wheel drive</td>\n",
              "      <td>2.0</td>\n",
              "      <td>Luxury,Performance</td>\n",
              "      <td>Compact</td>\n",
              "      <td>Convertible</td>\n",
              "      <td>28</td>\n",
              "      <td>19</td>\n",
              "      <td>3916</td>\n",
              "      <td>40650</td>\n",
              "    </tr>\n",
              "    <tr>\n",
              "      <th>2</th>\n",
              "      <td>BMW</td>\n",
              "      <td>1 Series</td>\n",
              "      <td>2011</td>\n",
              "      <td>premium unleaded (required)</td>\n",
              "      <td>300.0</td>\n",
              "      <td>6.0</td>\n",
              "      <td>MANUAL</td>\n",
              "      <td>rear wheel drive</td>\n",
              "      <td>2.0</td>\n",
              "      <td>Luxury,High-Performance</td>\n",
              "      <td>Compact</td>\n",
              "      <td>Coupe</td>\n",
              "      <td>28</td>\n",
              "      <td>20</td>\n",
              "      <td>3916</td>\n",
              "      <td>36350</td>\n",
              "    </tr>\n",
              "    <tr>\n",
              "      <th>3</th>\n",
              "      <td>BMW</td>\n",
              "      <td>1 Series</td>\n",
              "      <td>2011</td>\n",
              "      <td>premium unleaded (required)</td>\n",
              "      <td>230.0</td>\n",
              "      <td>6.0</td>\n",
              "      <td>MANUAL</td>\n",
              "      <td>rear wheel drive</td>\n",
              "      <td>2.0</td>\n",
              "      <td>Luxury,Performance</td>\n",
              "      <td>Compact</td>\n",
              "      <td>Coupe</td>\n",
              "      <td>28</td>\n",
              "      <td>18</td>\n",
              "      <td>3916</td>\n",
              "      <td>29450</td>\n",
              "    </tr>\n",
              "    <tr>\n",
              "      <th>4</th>\n",
              "      <td>BMW</td>\n",
              "      <td>1 Series</td>\n",
              "      <td>2011</td>\n",
              "      <td>premium unleaded (required)</td>\n",
              "      <td>230.0</td>\n",
              "      <td>6.0</td>\n",
              "      <td>MANUAL</td>\n",
              "      <td>rear wheel drive</td>\n",
              "      <td>2.0</td>\n",
              "      <td>Luxury</td>\n",
              "      <td>Compact</td>\n",
              "      <td>Convertible</td>\n",
              "      <td>28</td>\n",
              "      <td>18</td>\n",
              "      <td>3916</td>\n",
              "      <td>34500</td>\n",
              "    </tr>\n",
              "  </tbody>\n",
              "</table>\n",
              "</div>"
            ],
            "text/plain": [
              "  Make       Model  Year  ... MPG-C  Popularity  Price\n",
              "0  BMW  1 Series M  2011  ...    19        3916  46135\n",
              "1  BMW    1 Series  2011  ...    19        3916  40650\n",
              "2  BMW    1 Series  2011  ...    20        3916  36350\n",
              "3  BMW    1 Series  2011  ...    18        3916  29450\n",
              "4  BMW    1 Series  2011  ...    18        3916  34500\n",
              "\n",
              "[5 rows x 16 columns]"
            ]
          },
          "metadata": {
            "tags": []
          },
          "execution_count": 8
        }
      ]
    },
    {
      "cell_type": "markdown",
      "metadata": {
        "id": "nXmrz18TuFHx",
        "colab_type": "text"
      },
      "source": [
        "Getting the number of rows & columns from dataframe"
      ]
    },
    {
      "cell_type": "code",
      "metadata": {
        "id": "zH-YiaOWuV4r",
        "colab_type": "code",
        "colab": {
          "base_uri": "https://localhost:8080/",
          "height": 34
        },
        "outputId": "b83d33aa-3895-4bff-df06-2e8d0e2a7512"
      },
      "source": [
        "df.shape\n"
      ],
      "execution_count": 9,
      "outputs": [
        {
          "output_type": "execute_result",
          "data": {
            "text/plain": [
              "(11914, 16)"
            ]
          },
          "metadata": {
            "tags": []
          },
          "execution_count": 9
        }
      ]
    },
    {
      "cell_type": "markdown",
      "metadata": {
        "id": "4g0gIK5BulWn",
        "colab_type": "text"
      },
      "source": [
        "Checking for duplicates"
      ]
    },
    {
      "cell_type": "code",
      "metadata": {
        "id": "O5ItuSWotrpD",
        "colab_type": "code",
        "colab": {
          "base_uri": "https://localhost:8080/",
          "height": 34
        },
        "outputId": "fe2b92b8-dc03-4af3-d4f9-41f341d57e97"
      },
      "source": [
        "duplicate_rows_df = df[df.duplicated()]\n",
        "print(\"number of duplicate rows: \", duplicate_rows_df.shape)"
      ],
      "execution_count": 10,
      "outputs": [
        {
          "output_type": "stream",
          "text": [
            "number of duplicate rows:  (715, 16)\n"
          ],
          "name": "stdout"
        }
      ]
    },
    {
      "cell_type": "markdown",
      "metadata": {
        "id": "nezcdb3Qu1IV",
        "colab_type": "text"
      },
      "source": [
        "Deleting duplicates"
      ]
    },
    {
      "cell_type": "code",
      "metadata": {
        "id": "-3_-IiamtrZ0",
        "colab_type": "code",
        "colab": {}
      },
      "source": [
        "df = df.drop_duplicates()"
      ],
      "execution_count": 11,
      "outputs": []
    },
    {
      "cell_type": "markdown",
      "metadata": {
        "id": "KyKQjgntvChq",
        "colab_type": "text"
      },
      "source": [
        "Checking for null values"
      ]
    },
    {
      "cell_type": "code",
      "metadata": {
        "id": "jG5gVSEmvEJH",
        "colab_type": "code",
        "colab": {
          "base_uri": "https://localhost:8080/",
          "height": 306
        },
        "outputId": "7eda18a6-ae71-4dad-81ae-5d1540216397"
      },
      "source": [
        "print(df.isnull().sum())"
      ],
      "execution_count": 12,
      "outputs": [
        {
          "output_type": "stream",
          "text": [
            "Make                   0\n",
            "Model                  0\n",
            "Year                   0\n",
            "Engine Fuel Type       3\n",
            "HP                    69\n",
            "Cylinders             30\n",
            "Transmission           0\n",
            "Drive Mode             0\n",
            "Number of Doors        6\n",
            "Market Category     3376\n",
            "Vehicle Size           0\n",
            "Vehicle Style          0\n",
            "MPG-H                  0\n",
            "MPG-C                  0\n",
            "Popularity             0\n",
            "Price                  0\n",
            "dtype: int64\n"
          ],
          "name": "stdout"
        }
      ]
    },
    {
      "cell_type": "markdown",
      "metadata": {
        "id": "DQeuINzlvM3O",
        "colab_type": "text"
      },
      "source": [
        "Drop null values and count number of rows"
      ]
    },
    {
      "cell_type": "code",
      "metadata": {
        "id": "HpIgl4k0vR49",
        "colab_type": "code",
        "colab": {
          "base_uri": "https://localhost:8080/",
          "height": 306
        },
        "outputId": "e1af7832-7fdd-4aca-a030-47864c7d6b1a"
      },
      "source": [
        "df = df.dropna()\n",
        "df.count()"
      ],
      "execution_count": 13,
      "outputs": [
        {
          "output_type": "execute_result",
          "data": {
            "text/plain": [
              "Make                7735\n",
              "Model               7735\n",
              "Year                7735\n",
              "Engine Fuel Type    7735\n",
              "HP                  7735\n",
              "Cylinders           7735\n",
              "Transmission        7735\n",
              "Drive Mode          7735\n",
              "Number of Doors     7735\n",
              "Market Category     7735\n",
              "Vehicle Size        7735\n",
              "Vehicle Style       7735\n",
              "MPG-H               7735\n",
              "MPG-C               7735\n",
              "Popularity          7735\n",
              "Price               7735\n",
              "dtype: int64"
            ]
          },
          "metadata": {
            "tags": []
          },
          "execution_count": 13
        }
      ]
    },
    {
      "cell_type": "code",
      "metadata": {
        "id": "qrL4GhM4vbYS",
        "colab_type": "code",
        "colab": {
          "base_uri": "https://localhost:8080/",
          "height": 306
        },
        "outputId": "fb861ade-66b5-4328-8c2f-f79ffbb9dc8b"
      },
      "source": [
        "print(df.isnull().sum())"
      ],
      "execution_count": 14,
      "outputs": [
        {
          "output_type": "stream",
          "text": [
            "Make                0\n",
            "Model               0\n",
            "Year                0\n",
            "Engine Fuel Type    0\n",
            "HP                  0\n",
            "Cylinders           0\n",
            "Transmission        0\n",
            "Drive Mode          0\n",
            "Number of Doors     0\n",
            "Market Category     0\n",
            "Vehicle Size        0\n",
            "Vehicle Style       0\n",
            "MPG-H               0\n",
            "MPG-C               0\n",
            "Popularity          0\n",
            "Price               0\n",
            "dtype: int64\n"
          ],
          "name": "stdout"
        }
      ]
    },
    {
      "cell_type": "markdown",
      "metadata": {
        "id": "gwOtWCmZve48",
        "colab_type": "text"
      },
      "source": [
        "Detecting outliers"
      ]
    },
    {
      "cell_type": "code",
      "metadata": {
        "id": "w-M77myyvbQZ",
        "colab_type": "code",
        "colab": {
          "base_uri": "https://localhost:8080/",
          "height": 296
        },
        "outputId": "e3466df0-249f-4f4a-ba9f-5e547e5b9356"
      },
      "source": [
        "sns.boxplot(x=df['Price'])     #Boxplot of price"
      ],
      "execution_count": 15,
      "outputs": [
        {
          "output_type": "execute_result",
          "data": {
            "text/plain": [
              "<matplotlib.axes._subplots.AxesSubplot at 0x7fd19a97ec18>"
            ]
          },
          "metadata": {
            "tags": []
          },
          "execution_count": 15
        },
        {
          "output_type": "display_data",
          "data": {
            "image/png": "[encoded data removed]",
            "text/plain": [
              "<Figure size 432x288 with 1 Axes>"
            ]
          },
          "metadata": {
            "tags": [],
            "needs_background": "light"
          }
        }
      ]
    },
    {
      "cell_type": "code",
      "metadata": {
        "id": "PI1VWXhcvywD",
        "colab_type": "code",
        "colab": {
          "base_uri": "https://localhost:8080/",
          "height": 296
        },
        "outputId": "39d023a0-1e82-4d43-bd11-09ce51efa226"
      },
      "source": [
        "sns.boxplot(x=df['HP'])    #Boxplot of HP"
      ],
      "execution_count": 16,
      "outputs": [
        {
          "output_type": "execute_result",
          "data": {
            "text/plain": [
              "<matplotlib.axes._subplots.AxesSubplot at 0x7fd19a87c780>"
            ]
          },
          "metadata": {
            "tags": []
          },
          "execution_count": 16
        },
        {
          "output_type": "display_data",
          "data": {
            "image/png": "[encoded data removed]",
            "text/plain": [
              "<Figure size 432x288 with 1 Axes>"
            ]
          },
          "metadata": {
            "tags": [],
            "needs_background": "light"
          }
        }
      ]
    },
    {
      "cell_type": "code",
      "metadata": {
        "id": "Hg8mqnIov-hS",
        "colab_type": "code",
        "colab": {
          "base_uri": "https://localhost:8080/",
          "height": 296
        },
        "outputId": "08b3751c-52f7-4566-b278-4a5390301745"
      },
      "source": [
        "sns.boxplot(x=df['Cylinders'])       #Boxplot of Cyclinders"
      ],
      "execution_count": 17,
      "outputs": [
        {
          "output_type": "execute_result",
          "data": {
            "text/plain": [
              "<matplotlib.axes._subplots.AxesSubplot at 0x7fd19a3880b8>"
            ]
          },
          "metadata": {
            "tags": []
          },
          "execution_count": 17
        },
        {
          "output_type": "display_data",
          "data": {
            "image/png": "[encoded data removed]",
            "text/plain": [
              "<Figure size 432x288 with 1 Axes>"
            ]
          },
          "metadata": {
            "tags": [],
            "needs_background": "light"
          }
        }
      ]
    },
    {
      "cell_type": "markdown",
      "metadata": {
        "id": "UxemiCtgwKhR",
        "colab_type": "text"
      },
      "source": [
        "Removing Outliners"
      ]
    },
    {
      "cell_type": "code",
      "metadata": {
        "id": "wqWsCc9VwN_a",
        "colab_type": "code",
        "colab": {
          "base_uri": "https://localhost:8080/",
          "height": 170
        },
        "outputId": "b2c720cf-be82-47a7-9340-e299282689a3"
      },
      "source": [
        "Q1 = df.quantile(0.25)\n",
        "Q3 = df.quantile(0.75)\n",
        "IQR = Q3 - Q1\n",
        "print(IQR)"
      ],
      "execution_count": 18,
      "outputs": [
        {
          "output_type": "stream",
          "text": [
            "Year                   6.0\n",
            "HP                   131.0\n",
            "Cylinders              2.0\n",
            "Number of Doors        2.0\n",
            "MPG-H                  8.0\n",
            "MPG-C                  6.0\n",
            "Popularity          1489.0\n",
            "Price              23252.5\n",
            "dtype: float64\n"
          ],
          "name": "stdout"
        }
      ]
    },
    {
      "cell_type": "code",
      "metadata": {
        "id": "yzFxbeuLwY_d",
        "colab_type": "code",
        "colab": {
          "base_uri": "https://localhost:8080/",
          "height": 34
        },
        "outputId": "4a9fcf10-6a47-4381-d1bb-d0b1544da643"
      },
      "source": [
        "df = df[~((df < (Q1 - 1.5 * IQR)) |(df > (Q3 + 1.5 * IQR))).any(axis=1)]\n",
        "df.shape"
      ],
      "execution_count": 19,
      "outputs": [
        {
          "output_type": "execute_result",
          "data": {
            "text/plain": [
              "(5622, 16)"
            ]
          },
          "metadata": {
            "tags": []
          },
          "execution_count": 19
        }
      ]
    },
    {
      "cell_type": "markdown",
      "metadata": {
        "id": "ZqVK7d8dwfyi",
        "colab_type": "text"
      },
      "source": [
        "Checking if outliers are removed or not"
      ]
    },
    {
      "cell_type": "code",
      "metadata": {
        "id": "8Uoz4RDVwgtu",
        "colab_type": "code",
        "colab": {
          "base_uri": "https://localhost:8080/",
          "height": 296
        },
        "outputId": "1ba80a32-05eb-4419-ab6f-3f55acc8f1a5"
      },
      "source": [
        "sns.boxplot(x=df['Price'])\n"
      ],
      "execution_count": 21,
      "outputs": [
        {
          "output_type": "execute_result",
          "data": {
            "text/plain": [
              "<matplotlib.axes._subplots.AxesSubplot at 0x7fd19a97ee48>"
            ]
          },
          "metadata": {
            "tags": []
          },
          "execution_count": 21
        },
        {
          "output_type": "display_data",
          "data": {
            "image/png": "[encoded data removed]",
            "text/plain": [
              "<Figure size 432x288 with 1 Axes>"
            ]
          },
          "metadata": {
            "tags": [],
            "needs_background": "light"
          }
        }
      ]
    },
    {
      "cell_type": "code",
      "metadata": {
        "id": "Qw-ovjcuwy_E",
        "colab_type": "code",
        "colab": {
          "base_uri": "https://localhost:8080/",
          "height": 296
        },
        "outputId": "283328c6-9c73-4573-bf71-f1548194d852"
      },
      "source": [
        "sns.boxplot(x=df['HP'])\n"
      ],
      "execution_count": 22,
      "outputs": [
        {
          "output_type": "execute_result",
          "data": {
            "text/plain": [
              "<matplotlib.axes._subplots.AxesSubplot at 0x7fd198fe7fd0>"
            ]
          },
          "metadata": {
            "tags": []
          },
          "execution_count": 22
        },
        {
          "output_type": "display_data",
          "data": {
            "image/png": "[encoded data removed]",
            "text/plain": [
              "<Figure size 432x288 with 1 Axes>"
            ]
          },
          "metadata": {
            "tags": [],
            "needs_background": "light"
          }
        }
      ]
    },
    {
      "cell_type": "code",
      "metadata": {
        "id": "5XnMNp6dw3dc",
        "colab_type": "code",
        "colab": {
          "base_uri": "https://localhost:8080/",
          "height": 296
        },
        "outputId": "d8795559-ae8b-4677-b0e8-cb6e02fd832a"
      },
      "source": [
        "sns.boxplot(x=df['Cylinders'])"
      ],
      "execution_count": 23,
      "outputs": [
        {
          "output_type": "execute_result",
          "data": {
            "text/plain": [
              "<matplotlib.axes._subplots.AxesSubplot at 0x7fd198fe94e0>"
            ]
          },
          "metadata": {
            "tags": []
          },
          "execution_count": 23
        },
        {
          "output_type": "display_data",
          "data": {
            "image/png": "[encoded data removed]",
            "text/plain": [
              "<Figure size 432x288 with 1 Axes>"
            ]
          },
          "metadata": {
            "tags": [],
            "needs_background": "light"
          }
        }
      ]
    },
    {
      "cell_type": "markdown",
      "metadata": {
        "id": "tAgJRsxtw9WF",
        "colab_type": "text"
      },
      "source": [
        "Top 10 most represented car brands"
      ]
    },
    {
      "cell_type": "code",
      "metadata": {
        "id": "qBiEcsX_w-Pj",
        "colab_type": "code",
        "colab": {
          "base_uri": "https://localhost:8080/",
          "height": 553
        },
        "outputId": "e1f6b94f-cd69-4199-ef4b-c574c633cc3f"
      },
      "source": [
        "# Percentage of car per brand\n",
        "counts = df['Make'].value_counts()*100/sum(df['Make'].value_counts())\n",
        "\n",
        "# Top 10 car brands\n",
        "popular_labels = counts.index[:10]\n",
        "    \n",
        "# Plot\n",
        "plt.figure(figsize=(15,9))\n",
        "plt.barh(popular_labels, width=counts[:10])\n",
        "plt.title('Top 10 Car brands')\n",
        "plt.show()"
      ],
      "execution_count": 24,
      "outputs": [
        {
          "output_type": "display_data",
          "data": {
            "image/png": "[encoded data removed]",
            "text/plain": [
              "<Figure size 1080x648 with 1 Axes>"
            ]
          },
          "metadata": {
            "tags": [],
            "needs_background": "light"
          }
        }
      ]
    },
    {
      "cell_type": "markdown",
      "metadata": {
        "id": "fUa9RxmCxU6g",
        "colab_type": "text"
      },
      "source": [
        "Average price of top car brands"
      ]
    },
    {
      "cell_type": "code",
      "metadata": {
        "id": "mnK1q1ZJxYYP",
        "colab_type": "code",
        "colab": {
          "base_uri": "https://localhost:8080/",
          "height": 187
        },
        "outputId": "2f6f5c88-7e14-429f-9d61-e6c0e451f0c0"
      },
      "source": [
        "prices = df[['Make','Price']].loc[(df['Make'] == 'Chevrolet')|\n",
        "               (df['Make'] == 'Ford')|\n",
        "               (df['Make'] == 'Volkswagen')|\n",
        "               (df['Make'] == 'Toyota')|\n",
        "               (df['Make'] == 'Dodge')|\n",
        "               (df['Make'] == 'Nissan')|\n",
        "               (df['Make'] == 'GMC')|\n",
        "               (df['Make'] == 'Honda')|\n",
        "               (df['Make'] == 'Mazda')].groupby('Make').mean()\n",
        "print(prices)"
      ],
      "execution_count": 25,
      "outputs": [
        {
          "output_type": "stream",
          "text": [
            "                   Price\n",
            "Make                    \n",
            "Chevrolet   34804.256140\n",
            "Dodge       30237.995868\n",
            "GMC         37863.725564\n",
            "Honda       29311.985294\n",
            "Mazda       25898.916256\n",
            "Nissan      33645.876866\n",
            "Toyota      32619.345794\n",
            "Volkswagen  30344.291444\n"
          ],
          "name": "stdout"
        }
      ]
    },
    {
      "cell_type": "markdown",
      "metadata": {
        "id": "uBiK438Oxh8P",
        "colab_type": "text"
      },
      "source": [
        "Finding correlation"
      ]
    },
    {
      "cell_type": "code",
      "metadata": {
        "id": "KO4eo7f_xkgU",
        "colab_type": "code",
        "colab": {
          "base_uri": "https://localhost:8080/",
          "height": 297
        },
        "outputId": "abd18520-a0d9-46fd-fa84-1e31a7ea0663"
      },
      "source": [
        "df.corr()"
      ],
      "execution_count": 26,
      "outputs": [
        {
          "output_type": "execute_result",
          "data": {
            "text/html": [
              "<div>\n",
              "<style scoped>\n",
              "    .dataframe tbody tr th:only-of-type {\n",
              "        vertical-align: middle;\n",
              "    }\n",
              "\n",
              "    .dataframe tbody tr th {\n",
              "        vertical-align: top;\n",
              "    }\n",
              "\n",
              "    .dataframe thead th {\n",
              "        text-align: right;\n",
              "    }\n",
              "</style>\n",
              "<table border=\"1\" class=\"dataframe\">\n",
              "  <thead>\n",
              "    <tr style=\"text-align: right;\">\n",
              "      <th></th>\n",
              "      <th>Year</th>\n",
              "      <th>HP</th>\n",
              "      <th>Cylinders</th>\n",
              "      <th>Number of Doors</th>\n",
              "      <th>MPG-H</th>\n",
              "      <th>MPG-C</th>\n",
              "      <th>Popularity</th>\n",
              "      <th>Price</th>\n",
              "    </tr>\n",
              "  </thead>\n",
              "  <tbody>\n",
              "    <tr>\n",
              "      <th>Year</th>\n",
              "      <td>1.000000</td>\n",
              "      <td>0.151051</td>\n",
              "      <td>-0.173957</td>\n",
              "      <td>0.121819</td>\n",
              "      <td>0.344971</td>\n",
              "      <td>0.320515</td>\n",
              "      <td>0.194030</td>\n",
              "      <td>0.224195</td>\n",
              "    </tr>\n",
              "    <tr>\n",
              "      <th>HP</th>\n",
              "      <td>0.151051</td>\n",
              "      <td>1.000000</td>\n",
              "      <td>0.772090</td>\n",
              "      <td>-0.038800</td>\n",
              "      <td>-0.558102</td>\n",
              "      <td>-0.646821</td>\n",
              "      <td>0.089515</td>\n",
              "      <td>0.757838</td>\n",
              "    </tr>\n",
              "    <tr>\n",
              "      <th>Cylinders</th>\n",
              "      <td>-0.173957</td>\n",
              "      <td>0.772090</td>\n",
              "      <td>1.000000</td>\n",
              "      <td>-0.002469</td>\n",
              "      <td>-0.709868</td>\n",
              "      <td>-0.749259</td>\n",
              "      <td>0.021924</td>\n",
              "      <td>0.518301</td>\n",
              "    </tr>\n",
              "    <tr>\n",
              "      <th>Number of Doors</th>\n",
              "      <td>0.121819</td>\n",
              "      <td>-0.038800</td>\n",
              "      <td>-0.002469</td>\n",
              "      <td>1.000000</td>\n",
              "      <td>-0.045712</td>\n",
              "      <td>0.003745</td>\n",
              "      <td>-0.098174</td>\n",
              "      <td>0.015691</td>\n",
              "    </tr>\n",
              "    <tr>\n",
              "      <th>MPG-H</th>\n",
              "      <td>0.344971</td>\n",
              "      <td>-0.558102</td>\n",
              "      <td>-0.709868</td>\n",
              "      <td>-0.045712</td>\n",
              "      <td>1.000000</td>\n",
              "      <td>0.924245</td>\n",
              "      <td>0.109159</td>\n",
              "      <td>-0.308098</td>\n",
              "    </tr>\n",
              "    <tr>\n",
              "      <th>MPG-C</th>\n",
              "      <td>0.320515</td>\n",
              "      <td>-0.646821</td>\n",
              "      <td>-0.749259</td>\n",
              "      <td>0.003745</td>\n",
              "      <td>0.924245</td>\n",
              "      <td>1.000000</td>\n",
              "      <td>0.062135</td>\n",
              "      <td>-0.381777</td>\n",
              "    </tr>\n",
              "    <tr>\n",
              "      <th>Popularity</th>\n",
              "      <td>0.194030</td>\n",
              "      <td>0.089515</td>\n",
              "      <td>0.021924</td>\n",
              "      <td>-0.098174</td>\n",
              "      <td>0.109159</td>\n",
              "      <td>0.062135</td>\n",
              "      <td>1.000000</td>\n",
              "      <td>0.141315</td>\n",
              "    </tr>\n",
              "    <tr>\n",
              "      <th>Price</th>\n",
              "      <td>0.224195</td>\n",
              "      <td>0.757838</td>\n",
              "      <td>0.518301</td>\n",
              "      <td>0.015691</td>\n",
              "      <td>-0.308098</td>\n",
              "      <td>-0.381777</td>\n",
              "      <td>0.141315</td>\n",
              "      <td>1.000000</td>\n",
              "    </tr>\n",
              "  </tbody>\n",
              "</table>\n",
              "</div>"
            ],
            "text/plain": [
              "                     Year        HP  Cylinders  ...     MPG-C  Popularity     Price\n",
              "Year             1.000000  0.151051  -0.173957  ...  0.320515    0.194030  0.224195\n",
              "HP               0.151051  1.000000   0.772090  ... -0.646821    0.089515  0.757838\n",
              "Cylinders       -0.173957  0.772090   1.000000  ... -0.749259    0.021924  0.518301\n",
              "Number of Doors  0.121819 -0.038800  -0.002469  ...  0.003745   -0.098174  0.015691\n",
              "MPG-H            0.344971 -0.558102  -0.709868  ...  0.924245    0.109159 -0.308098\n",
              "MPG-C            0.320515 -0.646821  -0.749259  ...  1.000000    0.062135 -0.381777\n",
              "Popularity       0.194030  0.089515   0.021924  ...  0.062135    1.000000  0.141315\n",
              "Price            0.224195  0.757838   0.518301  ... -0.381777    0.141315  1.000000\n",
              "\n",
              "[8 rows x 8 columns]"
            ]
          },
          "metadata": {
            "tags": []
          },
          "execution_count": 26
        }
      ]
    },
    {
      "cell_type": "markdown",
      "metadata": {
        "id": "lRy_nKuCxojg",
        "colab_type": "text"
      },
      "source": [
        "HeatMap"
      ]
    },
    {
      "cell_type": "code",
      "metadata": {
        "id": "ZddGcsOzxrW_",
        "colab_type": "code",
        "colab": {
          "base_uri": "https://localhost:8080/",
          "height": 612
        },
        "outputId": "0bfc1a41-621e-4d69-849a-e28a4f05d442"
      },
      "source": [
        "car_corr=df.corr()\n",
        "f,ax=plt.subplots(figsize=(15,10))\n",
        "sns.heatmap(car_corr, cmap='jet',annot=True)\n",
        "plt.title(\"Correlation between features\", \n",
        "          weight='bold', \n",
        "          fontsize=20)\n",
        "plt.show()"
      ],
      "execution_count": 27,
      "outputs": [
        {
          "output_type": "display_data",
          "data": {
            "image/png": "[encoded data removed]",
            "text/plain": [
              "<Figure size 1080x720 with 2 Axes>"
            ]
          },
          "metadata": {
            "tags": [],
            "needs_background": "light"
          }
        }
      ]
    },
    {
      "cell_type": "markdown",
      "metadata": {
        "id": "Acws6_iWxzF_",
        "colab_type": "text"
      },
      "source": [
        "There is a +ve correlation between:\n",
        "\n",
        "Engine HP and Engine Cylinders\n",
        "Engine HP and MSRP\n",
        "Engine Cylinders and MSRP\n",
        "MPG-H and MPG-C\n",
        "There is Strong -ve correlation between :\n",
        "\n",
        "MPG-H and Cylinders\n",
        "MPG-C and Cylinders"
      ]
    },
    {
      "cell_type": "markdown",
      "metadata": {
        "id": "C7N84Qpwx5eB",
        "colab_type": "text"
      },
      "source": [
        "Plotting graphs"
      ]
    },
    {
      "cell_type": "code",
      "metadata": {
        "id": "TExAtVM_x7IR",
        "colab_type": "code",
        "colab": {
          "base_uri": "https://localhost:8080/",
          "height": 623
        },
        "outputId": "04fdab7a-a5d6-4a11-b5fc-4afec1679251"
      },
      "source": [
        "# Graph between year and price\n",
        "plt.figure(figsize=(15,10))\n",
        "sns.barplot(df['Year'],df['Price'])"
      ],
      "execution_count": 28,
      "outputs": [
        {
          "output_type": "execute_result",
          "data": {
            "text/plain": [
              "<matplotlib.axes._subplots.AxesSubplot at 0x7fd198f24e48>"
            ]
          },
          "metadata": {
            "tags": []
          },
          "execution_count": 28
        },
        {
          "output_type": "display_data",
          "data": {
            "image/png": "[encoded data removed]",
            "text/plain": [
              "<Figure size 1080x720 with 1 Axes>"
            ]
          },
          "metadata": {
            "tags": [],
            "needs_background": "light"
          }
        }
      ]
    },
    {
      "cell_type": "code",
      "metadata": {
        "id": "NNoeBB4DyKRP",
        "colab_type": "code",
        "colab": {
          "base_uri": "https://localhost:8080/",
          "height": 623
        },
        "outputId": "1ea530ee-1cec-41b3-c314-45dbe17be2da"
      },
      "source": [
        "# Graph between cyclinders and price\n",
        "plt.figure(figsize=(15,10))\n",
        "sns.barplot(df['Cylinders'],df['Price'])"
      ],
      "execution_count": 29,
      "outputs": [
        {
          "output_type": "execute_result",
          "data": {
            "text/plain": [
              "<matplotlib.axes._subplots.AxesSubplot at 0x7fd198fd7cc0>"
            ]
          },
          "metadata": {
            "tags": []
          },
          "execution_count": 29
        },
        {
          "output_type": "display_data",
          "data": {
            "image/png": "[encoded data removed]",
            "text/plain": [
              "<Figure size 1080x720 with 1 Axes>"
            ]
          },
          "metadata": {
            "tags": [],
            "needs_background": "light"
          }
        }
      ]
    },
    {
      "cell_type": "code",
      "metadata": {
        "id": "mx71vtbHyVeU",
        "colab_type": "code",
        "colab": {
          "base_uri": "https://localhost:8080/",
          "height": 623
        },
        "outputId": "9cf290c8-96ec-42c3-8797-58b6ae9b8dbf"
      },
      "source": [
        "# Graph between MGP-H and price\n",
        "plt.figure(figsize=(15,10))\n",
        "sns.barplot(df['MPG-H'],df['Price'])"
      ],
      "execution_count": 30,
      "outputs": [
        {
          "output_type": "execute_result",
          "data": {
            "text/plain": [
              "<matplotlib.axes._subplots.AxesSubplot at 0x7fd1963ece48>"
            ]
          },
          "metadata": {
            "tags": []
          },
          "execution_count": 30
        },
        {
          "output_type": "display_data",
          "data": {
            "image/png": "[encoded data removed]",
            "text/plain": [
              "<Figure size 1080x720 with 1 Axes>"
            ]
          },
          "metadata": {
            "tags": [],
            "needs_background": "light"
          }
        }
      ]
    },
    {
      "cell_type": "code",
      "metadata": {
        "id": "86RxRlzOyktB",
        "colab_type": "code",
        "colab": {
          "base_uri": "https://localhost:8080/",
          "height": 623
        },
        "outputId": "1dcaf0b0-d29e-47f3-deef-5f4ef8fc32d5"
      },
      "source": [
        "# Graph between MGP-C and price\n",
        "plt.figure(figsize=(15,10))\n",
        "sns.barplot(df['MPG-C'],df['Price'])"
      ],
      "execution_count": 31,
      "outputs": [
        {
          "output_type": "execute_result",
          "data": {
            "text/plain": [
              "<matplotlib.axes._subplots.AxesSubplot at 0x7fd198ecd7f0>"
            ]
          },
          "metadata": {
            "tags": []
          },
          "execution_count": 31
        },
        {
          "output_type": "display_data",
          "data": {
            "image/png": "[encoded data removed]",
            "text/plain": [
              "<Figure size 1080x720 with 1 Axes>"
            ]
          },
          "metadata": {
            "tags": [],
            "needs_background": "light"
          }
        }
      ]
    },
    {
      "cell_type": "markdown",
      "metadata": {
        "id": "qG8-AZnhysqK",
        "colab_type": "text"
      },
      "source": [
        "Finding from the graph\n",
        "Car price increased after year 2000\n",
        "More the number the cylinders, more is the price\n",
        "For MPG-H 15, price is maximum and for MPG-H 39, price is lowest.\n",
        "For MPG-C 10, price is maximum and for MPG-C 31, price is minimum\n"
      ]
    },
    {
      "cell_type": "markdown",
      "metadata": {
        "id": "tJAEM7ZUzeQe",
        "colab_type": "text"
      },
      "source": [
        "Encoding data"
      ]
    },
    {
      "cell_type": "code",
      "metadata": {
        "id": "LsxMybJUzdu5",
        "colab_type": "code",
        "colab": {}
      },
      "source": [
        "\n",
        "dcode=df\n",
        "\n",
        "dcode[\"Make\"]=dcode[\"Make\"].astype(\"category\")\n",
        "dcode[\"Make\"]=dcode[\"Make\"].cat.codes\n",
        "\n",
        "dcode[\"Model\"] = dcode[\"Model\"].astype('category')\n",
        "dcode[\"Model\"] = dcode[\"Model\"].cat.codes\n",
        "\n",
        "'''dcode[\"Year\"]=dcode[\"Year\"].astype(\"category\")\n",
        "dcode[\"Year\"]=dcode[\"Year\"].cat.codes\n",
        "dcode[\"HP\"]=dcode[\"HP\"].astype(\"category\")\n",
        "dcode[\"HP\"]=dcode[\"HP\"].cat.codes\n",
        "dcode[\"Cylinders\"]=dcode[\"Cylinders\"].astype(\"category\")\n",
        "dcode[\"Cylinders\"]=dcode[\"Cylinders\"].cat.codes\n",
        "dcode[\"MPG-H\"]=dcode[\"MPG-H\"].astype(\"category\")\n",
        "dcode[\"MPG-H\"]=dcode[\"MPG-H\"].cat.codes\n",
        "dcode[\"MPG-C\"]=dcode[\"MPG-C\"].astype(\"category\")\n",
        "dcode[\"MPG-C\"]=dcode[\"MPG-C\"].cat.codes\n",
        "dcode[\"Popularity\"]=dcode[\"Popularity\"].astype(\"category\")\n",
        "dcode[\"Popularity\"]=dcode[\"Popularity\"].cat.codes'''\n",
        "\n",
        "dcode[\"Transmission\"]=dcode[\"Transmission\"].astype(\"category\")\n",
        "dcode[\"Transmission\"]=dcode[\"Transmission\"].cat.codes\n",
        "\n",
        "dcode[\"Drive Mode\"]=dcode[\"Drive Mode\"].astype(\"category\")\n",
        "dcode[\"Drive Mode\"]=dcode[\"Drive Mode\"].cat.codes\n",
        "\n",
        "dcode[\"Vehicle Size\"]=dcode[\"Vehicle Size\"].astype(\"category\")\n",
        "dcode[\"Vehicle Size\"]=dcode[\"Vehicle Size\"].cat.codes\n",
        "\n",
        "dcode[\"Vehicle Style\"]=dcode[\"Vehicle Style\"].astype(\"category\")\n",
        "dcode[\"Vehicle Style\"]=dcode[\"Vehicle Style\"].cat.codes"
      ],
      "execution_count": 32,
      "outputs": []
    },
    {
      "cell_type": "markdown",
      "metadata": {
        "id": "xhd91zNRzy4j",
        "colab_type": "text"
      },
      "source": [
        "Pre-processing data"
      ]
    },
    {
      "cell_type": "code",
      "metadata": {
        "id": "j0g_TEWEzzrW",
        "colab_type": "code",
        "colab": {}
      },
      "source": [
        "from sklearn import preprocessing\n",
        "X = np.asarray(dcode[['Make', 'Model', 'Transmission', 'Drive Mode','Vehicle Size','Vehicle Style']])\n",
        "y = np.asarray(dcode['Price'])\n",
        "X = preprocessing.StandardScaler().fit(X).transform(X)"
      ],
      "execution_count": 34,
      "outputs": []
    },
    {
      "cell_type": "markdown",
      "metadata": {
        "id": "ayODEUo4z9SM",
        "colab_type": "text"
      },
      "source": [
        "Splitting data"
      ]
    },
    {
      "cell_type": "code",
      "metadata": {
        "id": "6GiFrK-5z7L2",
        "colab_type": "code",
        "colab": {
          "base_uri": "https://localhost:8080/",
          "height": 51
        },
        "outputId": "9f77a5b3-e01a-453b-9f88-8f788b07c334"
      },
      "source": [
        "from sklearn.model_selection import train_test_split\n",
        "X_train, X_test, y_train, y_test = train_test_split( X, y, test_size=0.2, random_state=44)\n",
        "print(X_train.shape, y_train.shape)\n",
        "print(X_test.shape, y_test.shape)"
      ],
      "execution_count": 35,
      "outputs": [
        {
          "output_type": "stream",
          "text": [
            "(4497, 6) (4497,)\n",
            "(1125, 6) (1125,)\n"
          ],
          "name": "stdout"
        }
      ]
    },
    {
      "cell_type": "markdown",
      "metadata": {
        "id": "BCVw1Nhh0Dgq",
        "colab_type": "text"
      },
      "source": [
        "Linear Regression"
      ]
    },
    {
      "cell_type": "code",
      "metadata": {
        "id": "2MBWm9Is0Edw",
        "colab_type": "code",
        "colab": {}
      },
      "source": [
        "from sklearn import linear_model\n",
        "lm = linear_model.LinearRegression()\n",
        "model = lm.fit(X_train,y_train)\n",
        "predictions = lm.predict(X_test)"
      ],
      "execution_count": 36,
      "outputs": []
    },
    {
      "cell_type": "code",
      "metadata": {
        "id": "AXrEG1Wj0KZX",
        "colab_type": "code",
        "colab": {
          "base_uri": "https://localhost:8080/",
          "height": 34
        },
        "outputId": "4de2d1be-40fb-4e49-f20c-4129228e71d0"
      },
      "source": [
        "#Score Prediction\n",
        "from sklearn.linear_model import LinearRegression\n",
        "model = LinearRegression().fit(X_train,y_train)\n",
        "y_pred = model.predict(X_test)\n",
        "model.score(X_test,y_pred)"
      ],
      "execution_count": 37,
      "outputs": [
        {
          "output_type": "execute_result",
          "data": {
            "text/plain": [
              "1.0"
            ]
          },
          "metadata": {
            "tags": []
          },
          "execution_count": 37
        }
      ]
    },
    {
      "cell_type": "markdown",
      "metadata": {
        "id": "A8Sr1I3g0QDL",
        "colab_type": "text"
      },
      "source": [
        "Decision Tree"
      ]
    },
    {
      "cell_type": "code",
      "metadata": {
        "id": "tLRzlUFQ0QxJ",
        "colab_type": "code",
        "colab": {
          "base_uri": "https://localhost:8080/",
          "height": 204
        },
        "outputId": "5d0b5dcd-abd6-44c6-ec25-01f9bc126f66"
      },
      "source": [
        "\n",
        "\n",
        "from sklearn.tree import DecisionTreeClassifier \n",
        "from sklearn.metrics import accuracy_score, confusion_matrix, classification_report \n",
        "d_m = DecisionTreeClassifier(random_state = 0)\n",
        "d_m.fit(X_train,y_train)\n",
        "y_pred = d_m.predict(X_test)\n",
        "print(\"Confusion Matrix:\\n\\n\", confusion_matrix(y_test, y_pred)) \n",
        "print (\"\\nAccuracy : \", accuracy_score(y_test,y_pred)*100)"
      ],
      "execution_count": 38,
      "outputs": [
        {
          "output_type": "stream",
          "text": [
            "Confusion Matrix:\n",
            "\n",
            " [[0 0 0 ... 0 0 0]\n",
            " [0 0 0 ... 0 0 0]\n",
            " [0 0 0 ... 0 0 0]\n",
            " ...\n",
            " [0 0 0 ... 0 0 0]\n",
            " [0 0 0 ... 0 1 0]\n",
            " [0 0 0 ... 0 0 3]]\n",
            "\n",
            "Accuracy :  2.488888888888889\n"
          ],
          "name": "stdout"
        }
      ]
    },
    {
      "cell_type": "markdown",
      "metadata": {
        "id": "dwoJYSJm0Z6S",
        "colab_type": "text"
      },
      "source": [
        "\n",
        "\n",
        "MSE, RMSE, MAE, R-sq"
      ]
    },
    {
      "cell_type": "code",
      "metadata": {
        "id": "bOL3w_5-0cXe",
        "colab_type": "code",
        "colab": {
          "base_uri": "https://localhost:8080/",
          "height": 85
        },
        "outputId": "fb92c0ed-ae33-42d1-d5d3-731ddba0ae55"
      },
      "source": [
        "from sklearn.metrics import mean_squared_error, r2_score, mean_absolute_error\n",
        "import math\n",
        "\n",
        "print('MSE: %.2f' % mean_squared_error(y_test, y_pred))\n",
        "print('Coefficient of determination or R Squared : %.2f' % r2_score(y_test, y_pred))\n",
        "print('MAE :%.2f' % mean_absolute_error(y_test, y_pred))\n",
        "print('RMSE : %.2f' % math.sqrt(mean_squared_error(y_test, y_pred)))"
      ],
      "execution_count": 39,
      "outputs": [
        {
          "output_type": "stream",
          "text": [
            "MSE: 48448161.22\n",
            "Coefficient of determination or R Squared : 0.76\n",
            "MAE :4423.16\n",
            "RMSE : 6960.47\n"
          ],
          "name": "stdout"
        }
      ]
    },
    {
      "cell_type": "code",
      "metadata": {
        "id": "HqtKK47u07Qv",
        "colab_type": "code",
        "colab": {
          "base_uri": "https://localhost:8080/",
          "height": 388
        },
        "outputId": "46e3a0ea-fd87-4944-8331-880b1245a0a3"
      },
      "source": [
        "fig, ax = plt.subplots(figsize=(10,6))\n",
        "ax.scatter(df['HP'], df['Price'])\n",
        "ax.set_xlabel('HP')\n",
        "ax.set_ylabel('Price')\n",
        "plt.show()"
      ],
      "execution_count": 40,
      "outputs": [
        {
          "output_type": "display_data",
          "data": {
            "image/png": "[encoded data removed]",
            "text/plain": [
              "<Figure size 720x432 with 1 Axes>"
            ]
          },
          "metadata": {
            "tags": [],
            "needs_background": "light"
          }
        }
      ]
    }
  ]
}